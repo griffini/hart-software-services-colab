{
  "nbformat": 4,
  "nbformat_minor": 0,
  "metadata": {
    "colab": {
      "name": "Building_the_HSS.ipynb",
      "provenance": [],
      "authorship_tag": "ABX9TyMeWI9b9Laa4u2Bu93rP6y0",
      "include_colab_link": true
    },
    "kernelspec": {
      "name": "python3",
      "display_name": "Python 3"
    },
    "language_info": {
      "name": "python"
    }
  },
  "cells": [
    {
      "cell_type": "markdown",
      "metadata": {
        "id": "view-in-github",
        "colab_type": "text"
      },
      "source": [
        "<a href=\"https://colab.research.google.com/github/griffini/hart-software-services-colab/blob/main/Building_the_HSS.ipynb\" target=\"_parent\"><img src=\"https://colab.research.google.com/assets/colab-badge.svg\" alt=\"Open In Colab\"/></a>"
      ]
    },
    {
      "cell_type": "markdown",
      "metadata": {
        "id": "m63ic5CsbHlv"
      },
      "source": [
        "# Building the Microchip PolarFire SoC (MPFS) Hart Software Services (HSS)"
      ]
    },
    {
      "cell_type": "code",
      "metadata": {
        "id": "71PwvHNubkt4"
      },
      "source": [
        "!if [ ! -d /content/opt ]; then mkdir -p /content/opt; \\\n",
        "    cd /content/opt; \\\n",
        "    wget https://github.com/xpack-dev-tools/riscv-none-embed-gcc-xpack/releases/download/v10.1.0-1.1/xpack-riscv-none-embed-gcc-10.1.0-1.1-linux-x64.tar.gz; \\\n",
        "    tar xvf ./xpack-riscv-none-embed-gcc-10.1.0-1.1-linux-x64.tar.gz; \\\n",
        "    chmod -R -w xpack-riscv-none-embed-gcc-10.1.0-1.1; \\\n",
        "else \\\n",
        "    echo \"xPACK tools already downloaded\";\\\n",
        "fi;\n"
      ],
      "execution_count": null,
      "outputs": []
    },
    {
      "cell_type": "markdown",
      "metadata": {
        "id": "jul5VHfhhD4Y"
      },
      "source": [
        "Install Kconfiglib"
      ]
    },
    {
      "cell_type": "code",
      "metadata": {
        "id": "leNcd15ghGVn"
      },
      "source": [
        "!pip install kconfiglib"
      ],
      "execution_count": null,
      "outputs": []
    },
    {
      "cell_type": "markdown",
      "metadata": {
        "id": "4ugPOZv4eeIu"
      },
      "source": [
        "Clone the HSS"
      ]
    },
    {
      "cell_type": "code",
      "metadata": {
        "id": "nObTv30qehYL"
      },
      "source": [
        "!mkdir /content/src\n",
        "%cd /content/src\n",
        "!git clone https://www.github.com/polarfire-soc/hart-software-services\n",
        "%cd hart-software-services"
      ],
      "execution_count": null,
      "outputs": []
    },
    {
      "cell_type": "markdown",
      "metadata": {
        "id": "HkXTX_y1fCc9"
      },
      "source": [
        "Copy the Icicle kit configuration to the toplevel and build..."
      ]
    },
    {
      "cell_type": "code",
      "metadata": {
        "id": "ZH3VFOEZfH9N"
      },
      "source": [
        "!cp boards/mpfs-icicle-kit-es/def_config .config\n",
        "!CROSS_COMPILE=/content/opt/xpack-riscv-none-embed-gcc-10.1.0-1.1/bin/riscv-none-embed- make -j2 BOARD=mpfs-icicle-kit-es"
      ],
      "execution_count": null,
      "outputs": []
    },
    {
      "cell_type": "markdown",
      "metadata": {
        "id": "on21Pj_Uky59"
      },
      "source": [
        "The `Default/` subdirectory contains the build outputs."
      ]
    },
    {
      "cell_type": "code",
      "metadata": {
        "id": "DIq5_Tu5k7vz"
      },
      "source": [
        "!ls Default/"
      ],
      "execution_count": null,
      "outputs": []
    }
  ]
}